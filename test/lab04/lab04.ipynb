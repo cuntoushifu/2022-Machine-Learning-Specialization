{
 "cells": [
  {
   "cell_type": "code",
   "execution_count": null,
   "id": "97c48e93",
   "metadata": {},
   "outputs": [],
   "source": [
    "import numpy as np\n",
    "%matplotlib widget\n",
    "import matplotlib.pyplot as plt\n",
    "from lab_utils_uni import plt_intuition, plt_stationary, plt_update_onclick, soup_bowl\n",
    "\n",
    "plt.style.use('./deeplearning.mplstyle')"
   ]
  },
  {
   "cell_type": "code",
   "execution_count": 4,
   "id": "2ccfdf26a9857e86",
   "metadata": {
    "ExecuteTime": {
     "end_time": "2023-08-30T12:57:04.860791400Z",
     "start_time": "2023-08-30T12:57:04.848824800Z"
    },
    "collapsed": false
   },
   "outputs": [],
   "source": [
    "x_train = np.array([1.0, 2.0])\n",
    "y_train = np.array([300, 500], dtype=np.float32)"
   ]
  },
  {
   "cell_type": "code",
   "execution_count": 5,
   "id": "8fb096bdf56ccc4f",
   "metadata": {
    "ExecuteTime": {
     "end_time": "2023-08-30T12:57:04.896700800Z",
     "start_time": "2023-08-30T12:57:04.864782800Z"
    },
    "collapsed": false
   },
   "outputs": [],
   "source": [
    "def compute_cost(x, y, w, b):\n",
    "    m = x.shape[0]\n",
    "    cost_sum = 0\n",
    "    for i in range(m):\n",
    "        f_wb = x[i] * w + b\n",
    "        cost = (f_wb - y[i]) ** 2\n",
    "        cost_sum += cost\n",
    "    return (1 / (2 * m)) * cost_sum"
   ]
  },
  {
   "cell_type": "code",
   "execution_count": 5,
   "id": "8483261296bb73e6",
   "metadata": {
    "ExecuteTime": {
     "end_time": "2023-08-30T13:00:59.968700700Z",
     "start_time": "2023-08-30T13:00:59.687095100Z"
    },
    "collapsed": false
   },
   "outputs": [
    {
     "data": {
      "application/vnd.jupyter.widget-view+json": {
       "model_id": "302bb93cf59144608b42931d40f28a70",
       "version_major": 2,
       "version_minor": 0
      },
      "text/plain": [
       "interactive(children=(IntSlider(value=150, description='w', max=400, step=10), Output()), _dom_classes=('widge…"
      ]
     },
     "metadata": {},
     "output_type": "display_data"
    }
   ],
   "source": [
    "plt_intuition(x_train,y_train)"
   ]
  },
  {
   "cell_type": "code",
   "execution_count": 6,
   "id": "b8f79845f3e5b8ce",
   "metadata": {
    "ExecuteTime": {
     "end_time": "2023-08-30T12:57:05.289642300Z",
     "start_time": "2023-08-30T12:57:05.270693400Z"
    },
    "collapsed": false
   },
   "outputs": [],
   "source": []
  }
 ],
 "metadata": {
  "kernelspec": {
   "display_name": "Python 3",
   "language": "python",
   "name": "python3"
  },
  "language_info": {
   "codemirror_mode": {
    "name": "ipython",
    "version": 3
   },
   "file_extension": ".py",
   "mimetype": "text/x-python",
   "name": "python",
   "nbconvert_exporter": "python",
   "pygments_lexer": "ipython3",
   "version": "3.7.6"
  }
 },
 "nbformat": 4,
 "nbformat_minor": 5
}
