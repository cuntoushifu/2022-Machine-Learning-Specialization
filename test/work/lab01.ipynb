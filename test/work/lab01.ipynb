{
 "cells": [
  {
   "cell_type": "code",
   "execution_count": 58,
   "id": "initial_id",
   "metadata": {
    "collapsed": true,
    "ExecuteTime": {
     "end_time": "2023-08-31T07:16:45.438111Z",
     "start_time": "2023-08-31T07:16:45.138327500Z"
    }
   },
   "outputs": [],
   "source": [
    "import numpy as np\n",
    "import time"
   ]
  },
  {
   "cell_type": "code",
   "execution_count": 59,
   "outputs": [
    {
     "name": "stdout",
     "output_type": "stream",
     "text": [
      "np.zeros(4) : a=[0. 0. 0. 0.],a.shape=(4,),dataType=float64\n",
      "np.zeros(4) : a=[0. 0. 0. 0.],a.shape=(4,),dataType=float64\n",
      "np.zeros(4) : a=[0.5669563  0.36607953 0.12254939 0.41590761],a.shape=(4,),dataType=float64\n"
     ]
    }
   ],
   "source": [
    "a = np.zeros(4)\n",
    "print(f\"np.zeros(4) : a={a},a.shape={a.shape},dataType={a.dtype}\")\n",
    "a = np.zeros((4))\n",
    "print(f\"np.zeros(4) : a={a},a.shape={a.shape},dataType={a.dtype}\")\n",
    "a = np.random.random_sample(4)\n",
    "print(f\"np.zeros(4) : a={a},a.shape={a.shape},dataType={a.dtype}\")\n"
   ],
   "metadata": {
    "collapsed": false,
    "ExecuteTime": {
     "end_time": "2023-08-31T07:16:45.439109300Z",
     "start_time": "2023-08-31T07:16:45.156105900Z"
    }
   },
   "id": "7fefd433b2ac253d"
  },
  {
   "cell_type": "code",
   "execution_count": 60,
   "outputs": [
    {
     "name": "stdout",
     "output_type": "stream",
     "text": [
      "a=[0 1 2 3],a.shape=(4,)\n",
      "a[2]=2,a[2].shape=()\n",
      "a[-1]=3\n"
     ]
    }
   ],
   "source": [
    "a = np.arange(4)\n",
    "print(f\"a={a},a.shape={a.shape}\")\n",
    "\n",
    "print(f'a[2]={a[2]},a[2].shape={a[2].shape}')\n",
    "\n",
    "print(f\"a[-1]={a[-1]}\")"
   ],
   "metadata": {
    "collapsed": false,
    "ExecuteTime": {
     "end_time": "2023-08-31T07:16:45.439109300Z",
     "start_time": "2023-08-31T07:16:45.171065500Z"
    }
   },
   "id": "65550cb3d626c34c"
  },
  {
   "cell_type": "code",
   "execution_count": 61,
   "outputs": [
    {
     "name": "stdout",
     "output_type": "stream",
     "text": [
      "ERROR:\n",
      "index 10 is out of bounds for axis 0 with size 4\n"
     ]
    }
   ],
   "source": [
    "try:\n",
    "    c = a[10]\n",
    "except Exception as e:\n",
    "    print(\"ERROR:\")\n",
    "    print(e)"
   ],
   "metadata": {
    "collapsed": false,
    "ExecuteTime": {
     "end_time": "2023-08-31T07:16:45.439109300Z",
     "start_time": "2023-08-31T07:16:45.188020900Z"
    }
   },
   "id": "9f53ffadcecbe7d3"
  },
  {
   "cell_type": "code",
   "execution_count": 62,
   "outputs": [
    {
     "name": "stdout",
     "output_type": "stream",
     "text": [
      "a=[0 1 2 3 4 5 6 7 8 9]\n",
      "a[2:7:1]=[2 3 4 5 6]\n",
      "a[3:]=[3 4 5 6 7 8 9]\n",
      "a[:3]=[0 1 2]\n",
      "a[:]=[0 1 2 3 4 5 6 7 8 9]\n"
     ]
    }
   ],
   "source": [
    "a = np.arange(10)\n",
    "print(f\"a={a}\")\n",
    "c = a[2:7:1]\n",
    "print(f\"a[2:7:1]={c}\")\n",
    "c = a[3:]\n",
    "print(f\"a[3:]={c}\")\n",
    "\n",
    "c = a[:3]\n",
    "print(f\"a[:3]={c}\")\n",
    "\n",
    "c = a[:]\n",
    "print(f\"a[:]={c}\")\n",
    "\n"
   ],
   "metadata": {
    "collapsed": false,
    "ExecuteTime": {
     "end_time": "2023-08-31T07:16:45.440105700Z",
     "start_time": "2023-08-31T07:16:45.204107300Z"
    }
   },
   "id": "fe5bbba1b01ccb1f"
  },
  {
   "cell_type": "code",
   "execution_count": 63,
   "outputs": [
    {
     "name": "stdout",
     "output_type": "stream",
     "text": [
      "a=[ 1  2  3  4  5  6  7  8  9 10]\n",
      "-a=[ -1  -2  -3  -4  -5  -6  -7  -8  -9 -10]\n",
      "np.sum(a)=55\n",
      "np.mean(a)=5.5\n",
      "a**2=[  1   4   9  16  25  36  49  64  81 100]\n"
     ]
    }
   ],
   "source": [
    "a = np.array([1, 2, 3, 4, 5, 6, 7, 8, 9, 10])\n",
    "print(f\"a={a}\")\n",
    "\n",
    "print(f\"-a={-a}\")\n",
    "\n",
    "print(f\"np.sum(a)={np.sum(a)}\")\n",
    "\n",
    "print(f\"np.mean(a)={np.mean(a)}\")\n",
    "\n",
    "print(f\"a**2={a ** 2}\")\n"
   ],
   "metadata": {
    "collapsed": false,
    "ExecuteTime": {
     "end_time": "2023-08-31T07:16:45.440105700Z",
     "start_time": "2023-08-31T07:16:45.219841800Z"
    }
   },
   "id": "56dddc1264bf2b3"
  },
  {
   "cell_type": "code",
   "execution_count": 64,
   "outputs": [
    {
     "name": "stdout",
     "output_type": "stream",
     "text": [
      "[0 0 6 8]\n"
     ]
    }
   ],
   "source": [
    "a = np.array([1, 2, 3, 4])\n",
    "b = np.array([-1, -2, 3, 4])\n",
    "print(a + b)"
   ],
   "metadata": {
    "collapsed": false,
    "ExecuteTime": {
     "end_time": "2023-08-31T07:16:45.440105700Z",
     "start_time": "2023-08-31T07:16:45.231811100Z"
    }
   },
   "id": "575222418bcf0c66"
  },
  {
   "cell_type": "code",
   "execution_count": 65,
   "outputs": [
    {
     "name": "stdout",
     "output_type": "stream",
     "text": [
      "[ 5 10 15 20]\n"
     ]
    }
   ],
   "source": [
    "c = np.array([1, 2])\n",
    "\n",
    "# print(a+c)\n",
    "print(5 * a)"
   ],
   "metadata": {
    "collapsed": false,
    "ExecuteTime": {
     "end_time": "2023-08-31T07:16:45.440105700Z",
     "start_time": "2023-08-31T07:16:45.249010300Z"
    }
   },
   "id": "752da161ebbc9110"
  },
  {
   "cell_type": "code",
   "execution_count": 66,
   "outputs": [],
   "source": [
    "def my_dot(a, b):\n",
    "    x = 0\n",
    "    for i in range(a.shape[0]):\n",
    "        x += (a[i] * b[i])\n",
    "    return x"
   ],
   "metadata": {
    "collapsed": false,
    "ExecuteTime": {
     "end_time": "2023-08-31T07:16:45.440105700Z",
     "start_time": "2023-08-31T07:16:45.264988500Z"
    }
   },
   "id": "821c01c3e8d6ef1f"
  },
  {
   "cell_type": "code",
   "execution_count": 67,
   "outputs": [
    {
     "data": {
      "text/plain": "-11"
     },
     "execution_count": 67,
     "metadata": {},
     "output_type": "execute_result"
    }
   ],
   "source": [
    "a = np.array([0, 0, 1, 2])\n",
    "b = np.array([-1, -2, -3, -4])\n",
    "my_dot(a, b)"
   ],
   "metadata": {
    "collapsed": false,
    "ExecuteTime": {
     "end_time": "2023-08-31T07:16:45.441144100Z",
     "start_time": "2023-08-31T07:16:45.279926400Z"
    }
   },
   "id": "d47c97af82ce72d"
  },
  {
   "cell_type": "code",
   "execution_count": 68,
   "outputs": [
    {
     "data": {
      "text/plain": "(-11, -11)"
     },
     "execution_count": 68,
     "metadata": {},
     "output_type": "execute_result"
    }
   ],
   "source": [
    "np.dot(a, b), np.dot(b, a)"
   ],
   "metadata": {
    "collapsed": false,
    "ExecuteTime": {
     "end_time": "2023-08-31T07:16:45.441144100Z",
     "start_time": "2023-08-31T07:16:45.295883500Z"
    }
   },
   "id": "ada28f0e125a727f"
  },
  {
   "cell_type": "code",
   "execution_count": 69,
   "outputs": [
    {
     "name": "stdout",
     "output_type": "stream",
     "text": [
      "np.dot(a,b)=2501072.58\n",
      "Vectorized version duration：6.97\n",
      "my_dot(a,b)=2501072.58\n",
      "loop version duration：3442.61\n"
     ]
    }
   ],
   "source": [
    "np.random.seed(1)\n",
    "\n",
    "a = np.random.rand(10000000)\n",
    "b = np.random.rand(10000000)\n",
    "\n",
    "tic = time.time()\n",
    "c = np.dot(a, b)\n",
    "toc = time.time()\n",
    "print(f\"np.dot(a,b)={c:.2f}\")\n",
    "print(f\"Vectorized version duration：{1000 * (toc - tic):.2f}\")\n",
    "\n",
    "tic = time.time()\n",
    "c = my_dot(a, b)\n",
    "toc = time.time()\n",
    "print(f\"my_dot(a,b)={c:.2f}\")\n",
    "print(f\"loop version duration：{1000 * (toc - tic):.2f}\")\n",
    "\n",
    "del (a)\n",
    "del (b)\n"
   ],
   "metadata": {
    "collapsed": false,
    "ExecuteTime": {
     "end_time": "2023-08-31T07:16:48.979927800Z",
     "start_time": "2023-08-31T07:16:45.311840400Z"
    }
   },
   "id": "72751b11c7b9b928"
  },
  {
   "cell_type": "code",
   "execution_count": 70,
   "outputs": [
    {
     "data": {
      "text/plain": "48.0"
     },
     "execution_count": 70,
     "metadata": {},
     "output_type": "execute_result"
    }
   ],
   "source": [
    "X = np.arange(1, 13, 1).reshape(4, 3)\n",
    "w = np.ones(3) * 2\n",
    "c = np.dot(X[2], w)\n",
    "c\n"
   ],
   "metadata": {
    "collapsed": false,
    "ExecuteTime": {
     "end_time": "2023-08-31T07:16:48.998827500Z",
     "start_time": "2023-08-31T07:16:48.970894Z"
    }
   },
   "id": "ec25e541aa9f5217"
  },
  {
   "cell_type": "code",
   "execution_count": 71,
   "outputs": [
    {
     "name": "stdout",
     "output_type": "stream",
     "text": [
      "a=[[0. 0. 0. 0. 0.]],a.shape=(1, 5)\n",
      "a=[[0. 0. 0. 0. 0.]\n",
      " [0. 0. 0. 0. 0.]],a.shape=(2, 5)\n",
      "a=[[0.44236513 0.04997798 0.77390955 0.93782363 0.5792328 ]\n",
      " [0.53516563 0.80204309 0.24814448 0.59096694 0.32950282]\n",
      " [0.98797985 0.86846315 0.16452144 0.80277814 0.02503441]\n",
      " [0.89766393 0.41783454 0.53671084 0.19721356 0.26810967]],a.shape=(4, 5)\n"
     ]
    }
   ],
   "source": [
    "a = np.zeros((1, 5))\n",
    "print(f\"a={a},a.shape={a.shape}\")\n",
    "\n",
    "a = np.zeros((2, 5))\n",
    "print(f\"a={a},a.shape={a.shape}\")\n",
    "\n",
    "a = np.random.random_sample((4, 5))\n",
    "print(f\"a={a},a.shape={a.shape}\")\n"
   ],
   "metadata": {
    "collapsed": false,
    "ExecuteTime": {
     "end_time": "2023-08-31T07:16:49.043341400Z",
     "start_time": "2023-08-31T07:16:48.988848900Z"
    }
   },
   "id": "219cb7c5def24"
  },
  {
   "cell_type": "code",
   "execution_count": 72,
   "outputs": [
    {
     "name": "stdout",
     "output_type": "stream",
     "text": [
      "a.shape:(3, 2)\n",
      " a=[[0 1]\n",
      " [2 3]\n",
      " [4 5]]\n"
     ]
    }
   ],
   "source": [
    "a = np.arange(6).reshape(-1, 2)\n",
    "print(f\"a.shape:{a.shape}\\n a={a}\\n\")\n"
   ],
   "metadata": {
    "collapsed": false,
    "ExecuteTime": {
     "end_time": "2023-08-31T07:16:49.066235200Z",
     "start_time": "2023-08-31T07:16:49.000816200Z"
    }
   },
   "id": "d1e56cd29601544e"
  },
  {
   "cell_type": "code",
   "execution_count": 73,
   "outputs": [
    {
     "name": "stdout",
     "output_type": "stream",
     "text": [
      "a[2]=[4 5],\n",
      "a[2].shape=(2,)\n",
      "type(a[2])=<class 'numpy.ndarray'>\n",
      "\n",
      "a[2.0]=4,\n",
      "a[2.0].shape=()\n",
      "type(a[2.0])=<class 'numpy.int32'>\n"
     ]
    }
   ],
   "source": [
    "print(f'a[2]={a[2]},\\n'\n",
    "      f'a[2].shape={a[2].shape}\\n'\n",
    "      f'type(a[2])={type(a[2])}\\n')\n",
    "print(f'a[2.0]={a[2,0]},\\n'\n",
    "      f'a[2.0].shape={a[2,0].shape}\\n'\n",
    "      f'type(a[2.0])={type(a[2,0])}\\n')"
   ],
   "metadata": {
    "collapsed": false,
    "ExecuteTime": {
     "end_time": "2023-08-31T07:16:49.067231600Z",
     "start_time": "2023-08-31T07:16:49.016108700Z"
    }
   },
   "id": "4b86321b718c6398"
  },
  {
   "cell_type": "code",
   "execution_count": 75,
   "outputs": [
    {
     "name": "stdout",
     "output_type": "stream",
     "text": [
      "a=\n",
      "[[ 0.  1.  2.  3.  4.  5.  6.  7.  8.  9.]\n",
      " [10. 11. 12. 13. 14. 15. 16. 17. 18. 19.]]\n",
      "a[0,2:7:1]=[2. 3. 4. 5. 6.]\n",
      "a[0,2:7:1].shape=(5,)\n"
     ]
    }
   ],
   "source": [
    "a=np.arange(20,dtype=np.float32).reshape(-1,10)\n",
    "print(f\"a=\\n{a}\")\n",
    "\n",
    "print(f\"a[0,2:7:1]={a[0,2:7:1]}\")\n",
    "print(f\"a[0,2:7:1].shape={a[0,2:7:1].shape}\")"
   ],
   "metadata": {
    "collapsed": false,
    "ExecuteTime": {
     "end_time": "2023-08-31T07:17:05.351966500Z",
     "start_time": "2023-08-31T07:17:05.328582200Z"
    }
   },
   "id": "58fa392d603a8ab8"
  },
  {
   "cell_type": "code",
   "execution_count": 77,
   "outputs": [
    {
     "name": "stdout",
     "output_type": "stream",
     "text": [
      "a[:,2:7:1]=\n",
      "[[ 2.  3.  4.  5.  6.]\n",
      " [12. 13. 14. 15. 16.]]\n",
      "a[:,2:7:1].shape=(2, 5)\n"
     ]
    }
   ],
   "source": [
    "print(f\"a[:,2:7:1]=\\n{a[:,2:7:1]}\")\n",
    "print(f\"a[:,2:7:1].shape={a[:,2:7:1].shape}\")"
   ],
   "metadata": {
    "collapsed": false,
    "ExecuteTime": {
     "end_time": "2023-08-31T07:17:42.551709700Z",
     "start_time": "2023-08-31T07:17:42.514973800Z"
    }
   },
   "id": "bce226d750b97c5f"
  },
  {
   "cell_type": "code",
   "execution_count": 79,
   "outputs": [
    {
     "name": "stdout",
     "output_type": "stream",
     "text": [
      "a[:,:]=\n",
      "[[ 0.  1.  2.  3.  4.  5.  6.  7.  8.  9.]\n",
      " [10. 11. 12. 13. 14. 15. 16. 17. 18. 19.]]\n",
      "a[:,:].shape=(2, 10)\n"
     ]
    }
   ],
   "source": [
    "print(f\"a[:,:]=\\n{a[:,:]}\")\n",
    "print(f\"a[:,:].shape={a[:,:].shape}\")"
   ],
   "metadata": {
    "collapsed": false,
    "ExecuteTime": {
     "end_time": "2023-08-31T07:18:10.363139Z",
     "start_time": "2023-08-31T07:18:10.283271500Z"
    }
   },
   "id": "56ad0aa0292a9348"
  },
  {
   "cell_type": "code",
   "execution_count": 81,
   "outputs": [
    {
     "name": "stdout",
     "output_type": "stream",
     "text": [
      "a[1,:]=\n",
      "[10. 11. 12. 13. 14. 15. 16. 17. 18. 19.]\n",
      "a[1,:].shape=(10,)\n"
     ]
    }
   ],
   "source": [
    "print(f\"a[1,:]=\\n{a[1,:]}\")\n",
    "print(f\"a[1,:].shape={a[1,:].shape}\")"
   ],
   "metadata": {
    "collapsed": false,
    "ExecuteTime": {
     "end_time": "2023-08-31T07:18:32.802762500Z",
     "start_time": "2023-08-31T07:18:32.759887600Z"
    }
   },
   "id": "6706bb6f0f6d7774"
  },
  {
   "cell_type": "code",
   "execution_count": 82,
   "outputs": [
    {
     "name": "stdout",
     "output_type": "stream",
     "text": [
      "a[1]=\n",
      "[10. 11. 12. 13. 14. 15. 16. 17. 18. 19.]\n",
      "a[1].shape=(10,)\n"
     ]
    }
   ],
   "source": [
    "print(f\"a[1]=\\n{a[1]}\")\n",
    "print(f\"a[1].shape={a[1].shape}\")"
   ],
   "metadata": {
    "collapsed": false,
    "ExecuteTime": {
     "end_time": "2023-08-31T07:19:09.192195600Z",
     "start_time": "2023-08-31T07:19:09.165208900Z"
    }
   },
   "id": "bf07eeb68f750f9d"
  }
 ],
 "metadata": {
  "kernelspec": {
   "display_name": "Python 3",
   "language": "python",
   "name": "python3"
  },
  "language_info": {
   "codemirror_mode": {
    "name": "ipython",
    "version": 2
   },
   "file_extension": ".py",
   "mimetype": "text/x-python",
   "name": "python",
   "nbconvert_exporter": "python",
   "pygments_lexer": "ipython2",
   "version": "2.7.6"
  }
 },
 "nbformat": 4,
 "nbformat_minor": 5
}
