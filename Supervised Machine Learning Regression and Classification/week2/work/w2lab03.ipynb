{
 "cells": [
  {
   "cell_type": "code",
   "execution_count": 1,
   "id": "initial_id",
   "metadata": {
    "collapsed": true,
    "ExecuteTime": {
     "end_time": "2023-09-05T07:16:59.723055800Z",
     "start_time": "2023-09-05T07:16:58.210263100Z"
    }
   },
   "outputs": [],
   "source": [
    "import numpy as np\n",
    "np.set_printoptions(precision=2)\n",
    "import matplotlib.pyplot as plt\n",
    "dlblue = '#0096ff'; dlorange = '#FF9300'; dldarkred='#C00000'; dlmagenta='#FF40FF'; dlpurple='#7030A0'; \n",
    "plt.style.use('deeplearning.mplstyle')\n",
    "from lab_utils_multi import  load_house_data, compute_cost, run_gradient_descent\n",
    "from lab_utils_multi import  norm_plot, plt_contour_multi, plt_equal_scale, plot_cost_i_w"
   ]
  },
  {
   "cell_type": "code",
   "execution_count": null,
   "outputs": [],
   "source": [
    "X_train,y_train=load_house_data()\n",
    "X_features=['size(sqft)','bedrooms','floors','age']"
   ],
   "metadata": {
    "collapsed": false
   },
   "id": "3ecfa87820ad511e"
  }
 ],
 "metadata": {
  "kernelspec": {
   "display_name": "Python 3",
   "language": "python",
   "name": "python3"
  },
  "language_info": {
   "codemirror_mode": {
    "name": "ipython",
    "version": 2
   },
   "file_extension": ".py",
   "mimetype": "text/x-python",
   "name": "python",
   "nbconvert_exporter": "python",
   "pygments_lexer": "ipython2",
   "version": "2.7.6"
  }
 },
 "nbformat": 4,
 "nbformat_minor": 5
}
