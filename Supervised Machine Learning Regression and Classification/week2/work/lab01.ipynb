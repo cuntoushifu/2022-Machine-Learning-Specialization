{
 "cells": [
  {
   "cell_type": "code",
   "execution_count": 1,
   "id": "initial_id",
   "metadata": {
    "collapsed": true,
    "ExecuteTime": {
     "end_time": "2023-09-03T07:22:21.256014200Z",
     "start_time": "2023-09-03T07:22:21.016654500Z"
    }
   },
   "outputs": [],
   "source": [
    "import numpy as np\n",
    "import time"
   ]
  },
  {
   "cell_type": "code",
   "execution_count": 3,
   "outputs": [
    {
     "name": "stdout",
     "output_type": "stream",
     "text": [
      "a.shape=(1, 5),a=[[0. 0. 0. 0. 0.]]\n",
      "a.shape=(2, 1),a=[[0.]\n",
      " [0.]]\n",
      "a.shape=(1, 1),a=[[0.11738354]]\n"
     ]
    }
   ],
   "source": [
    "a = np.zeros((1, 5))\n",
    "print(f\"a.shape={a.shape},a={a}\")\n",
    "\n",
    "a = np.zeros((2, 1))\n",
    "print(f\"a.shape={a.shape},a={a}\")\n",
    "\n",
    "a = np.random.random_sample((1, 1))\n",
    "print(f\"a.shape={a.shape},a={a}\")"
   ],
   "metadata": {
    "collapsed": false,
    "ExecuteTime": {
     "end_time": "2023-09-03T07:29:15.442903400Z",
     "start_time": "2023-09-03T07:29:15.401343500Z"
    }
   },
   "id": "5cc5a8f143155c59"
  },
  {
   "cell_type": "code",
   "execution_count": 7,
   "outputs": [
    {
     "name": "stdout",
     "output_type": "stream",
     "text": [
      "a.shape=(3, 1),a=[[5]\n",
      " [4]\n",
      " [3]]\n",
      "b.shape=(3, 1),b=[[5]\n",
      " [4]\n",
      " [3]]\n",
      "[[ True]\n",
      " [ True]\n",
      " [ True]]\n"
     ]
    }
   ],
   "source": [
    "a = np.array([[5], [4], [3]])\n",
    "print(f\"a.shape={a.shape},a={a}\")\n",
    "b = np.array([[5],\n",
    "              [4],\n",
    "              [3]])\n",
    "print(f\"b.shape={b.shape},b={b}\")\n",
    "print(a == b)"
   ],
   "metadata": {
    "collapsed": false,
    "ExecuteTime": {
     "end_time": "2023-09-03T07:33:43.116624900Z",
     "start_time": "2023-09-03T07:33:43.033665900Z"
    }
   },
   "id": "538a1163ab1999e5"
  },
  {
   "cell_type": "code",
   "execution_count": null,
   "outputs": [],
   "source": [],
   "metadata": {
    "collapsed": false
   },
   "id": "14c7ab1b5768174f"
  }
 ],
 "metadata": {
  "kernelspec": {
   "display_name": "Python 3",
   "language": "python",
   "name": "python3"
  },
  "language_info": {
   "codemirror_mode": {
    "name": "ipython",
    "version": 2
   },
   "file_extension": ".py",
   "mimetype": "text/x-python",
   "name": "python",
   "nbconvert_exporter": "python",
   "pygments_lexer": "ipython2",
   "version": "2.7.6"
  }
 },
 "nbformat": 4,
 "nbformat_minor": 5
}
