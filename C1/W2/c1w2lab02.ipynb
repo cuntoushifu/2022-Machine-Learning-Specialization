{
 "cells": [
  {
   "cell_type": "code",
   "execution_count": 168,
   "id": "initial_id",
   "metadata": {
    "collapsed": true,
    "ExecuteTime": {
     "end_time": "2023-09-23T10:05:30.923625900Z",
     "start_time": "2023-09-23T10:05:30.606429300Z"
    }
   },
   "outputs": [],
   "source": [
    "import copy, math\n",
    "import numpy as np\n",
    "import matplotlib.pyplot as plt\n",
    "\n",
    "plt.style.use('./deeplearning.mplstyle')\n",
    "np.set_printoptions(precision=2)"
   ]
  },
  {
   "cell_type": "code",
   "execution_count": 169,
   "outputs": [
    {
     "data": {
      "text/plain": "array([[2104,    5,    1,   45],\n       [1416,    3,    2,   40],\n       [ 852,    2,    1,   35]])"
     },
     "execution_count": 169,
     "metadata": {},
     "output_type": "execute_result"
    }
   ],
   "source": [
    "X_train = np.array([[2104, 5, 1, 45], [1416, 3, 2, 40], [852, 2, 1, 35]])\n",
    "y_train = np.array([460, 232, 178])\n",
    "X_train"
   ],
   "metadata": {
    "collapsed": false,
    "ExecuteTime": {
     "end_time": "2023-09-23T10:05:31.009387900Z",
     "start_time": "2023-09-23T10:05:30.624380900Z"
    }
   },
   "id": "a65987504464c631"
  },
  {
   "cell_type": "code",
   "execution_count": 170,
   "outputs": [
    {
     "data": {
      "text/plain": "array([460, 232, 178])"
     },
     "execution_count": 170,
     "metadata": {},
     "output_type": "execute_result"
    }
   ],
   "source": [
    "y_train"
   ],
   "metadata": {
    "collapsed": false,
    "ExecuteTime": {
     "end_time": "2023-09-23T10:05:31.022316600Z",
     "start_time": "2023-09-23T10:05:30.638344100Z"
    }
   },
   "id": "dd542b3dad31543b"
  },
  {
   "cell_type": "code",
   "execution_count": 171,
   "outputs": [
    {
     "name": "stdout",
     "output_type": "stream",
     "text": [
      "w_init shape: (4,), b_init type: <class 'float'>\n"
     ]
    }
   ],
   "source": [
    "b_init = 785.1811367994083\n",
    "w_init = np.array([0.39133535, 18.75376741, -53.36032453, -26.42131618])\n",
    "print(f\"w_init shape: {w_init.shape}, b_init type: {type(b_init)}\")"
   ],
   "metadata": {
    "collapsed": false,
    "ExecuteTime": {
     "end_time": "2023-09-23T10:05:31.022316600Z",
     "start_time": "2023-09-23T10:05:30.654302500Z"
    }
   },
   "id": "b49b0dbe51553259"
  },
  {
   "cell_type": "code",
   "execution_count": 172,
   "outputs": [],
   "source": [
    "def predict_single_loop(x, w, b):\n",
    "    n = x.shape[0]\n",
    "    p = 0\n",
    "    for i in range(n):\n",
    "        p += (x[i] * w[i])\n",
    "    return p + b"
   ],
   "metadata": {
    "collapsed": false,
    "ExecuteTime": {
     "end_time": "2023-09-23T10:05:31.022316600Z",
     "start_time": "2023-09-23T10:05:30.672253400Z"
    }
   },
   "id": "923844898c6f4eae"
  },
  {
   "cell_type": "code",
   "execution_count": 173,
   "outputs": [
    {
     "name": "stdout",
     "output_type": "stream",
     "text": [
      "x_vec:[2104    5    1   45],(4,)\n",
      "f_wb:459.9999976194083,()\n"
     ]
    }
   ],
   "source": [
    "x_vec = X_train[0, :]\n",
    "print(f\"x_vec:{x_vec},{x_vec.shape}\")\n",
    "\n",
    "f_wb = predict_single_loop(x_vec, w_init, b_init)\n",
    "print(f\"f_wb:{f_wb},{f_wb.shape}\")"
   ],
   "metadata": {
    "collapsed": false,
    "ExecuteTime": {
     "end_time": "2023-09-23T10:05:31.022316600Z",
     "start_time": "2023-09-23T10:05:30.688211100Z"
    }
   },
   "id": "66656b610295726d"
  },
  {
   "cell_type": "code",
   "execution_count": 174,
   "outputs": [],
   "source": [
    "def compute_cost(X, y, w, b):\n",
    "    m = X.shape[0]\n",
    "    cost = 0.0\n",
    "    for i in range(m):\n",
    "        f_wb_i = np.dot(X[i], w) + b\n",
    "        cost += (f_wb_i - y[i]) ** 2\n",
    "    return cost / (2 * m)"
   ],
   "metadata": {
    "collapsed": false,
    "ExecuteTime": {
     "end_time": "2023-09-23T10:05:31.022316600Z",
     "start_time": "2023-09-23T10:05:30.703170600Z"
    }
   },
   "id": "b06405c90604b988"
  },
  {
   "cell_type": "code",
   "execution_count": 175,
   "outputs": [
    {
     "name": "stdout",
     "output_type": "stream",
     "text": [
      "1.5578904428966628e-12\n"
     ]
    }
   ],
   "source": [
    "cost = compute_cost(X_train, y_train, w_init, b_init)\n",
    "print(cost)"
   ],
   "metadata": {
    "collapsed": false,
    "ExecuteTime": {
     "end_time": "2023-09-23T10:05:31.022316600Z",
     "start_time": "2023-09-23T10:05:30.718131800Z"
    }
   },
   "id": "16e63cc8694e40b4"
  },
  {
   "cell_type": "code",
   "execution_count": 176,
   "outputs": [],
   "source": [
    "def compute_gradient(X, y, w, b):\n",
    "    m, n = X.shape\n",
    "    dj_dw = np.zeros((n,))\n",
    "    dj_db = 0.\n",
    "\n",
    "    for i in range(m):\n",
    "        err = (np.dot(X[i], w) + b) - y[i]\n",
    "        for j in range(n):\n",
    "            dj_dw[j] += err * X[i][j]\n",
    "        dj_db += err\n",
    "    dj_dw /= m\n",
    "    dj_db /= m\n",
    "\n",
    "    return dj_dw, dj_db\n"
   ],
   "metadata": {
    "collapsed": false,
    "ExecuteTime": {
     "end_time": "2023-09-23T10:05:31.023314200Z",
     "start_time": "2023-09-23T10:05:30.735085100Z"
    }
   },
   "id": "bca1cebd88d05785"
  },
  {
   "cell_type": "code",
   "execution_count": 177,
   "outputs": [
    {
     "name": "stdout",
     "output_type": "stream",
     "text": [
      "dj_db=-1.6739251501955248e-06\n",
      "dj_dw=[-2.73e-03 -6.27e-06 -2.22e-06 -6.92e-05]\n"
     ]
    }
   ],
   "source": [
    "tmp_dj_dw, tmp_dj_db = compute_gradient(X_train, y_train, w_init, b_init)\n",
    "print(f'dj_db={tmp_dj_db}')\n",
    "print(f'dj_dw={tmp_dj_dw}')"
   ],
   "metadata": {
    "collapsed": false,
    "ExecuteTime": {
     "end_time": "2023-09-23T10:05:31.023314200Z",
     "start_time": "2023-09-23T10:05:30.747053300Z"
    }
   },
   "id": "4df8d4dc66a68894"
  },
  {
   "cell_type": "code",
   "execution_count": 178,
   "outputs": [],
   "source": [
    "def gradient_descent(X, y, w_in, b_in, cost_function, gradient_function, alpha, num_iters):\n",
    "    print(num_iters)\n",
    "    J_history = []\n",
    "    w = copy.deepcopy(w_in)\n",
    "    b = b_in\n",
    "\n",
    "    for i in range(num_iters):\n",
    "\n",
    "        dj_dw, dj_db = gradient_function(X, y, w, b)\n",
    "\n",
    "        w -= (alpha * dj_dw)\n",
    "        b -= (alpha * dj_db)\n",
    "\n",
    "        if i < 100000:\n",
    "            J_history.append(cost_function(X, y, w, b))\n",
    "\n",
    "        # num_iters 1000   100     \n",
    "        if i % math.ceil(num_iters / 10) == 0:\n",
    "            print(f\"iteration={i:4d} ----------- cost={J_history[-1]:8.4f}\")\n",
    "\n",
    "    return w, b, J_history\n",
    "\n"
   ],
   "metadata": {
    "collapsed": false,
    "ExecuteTime": {
     "end_time": "2023-09-23T10:05:31.023314200Z",
     "start_time": "2023-09-23T10:05:30.764007500Z"
    }
   },
   "id": "754656d259ff0d52"
  },
  {
   "cell_type": "code",
   "execution_count": 179,
   "outputs": [
    {
     "name": "stdout",
     "output_type": "stream",
     "text": [
      "1000\n",
      "iteration=   0 ----------- cost=2529.4630\n",
      "iteration= 100 ----------- cost=695.9903\n",
      "iteration= 200 ----------- cost=694.9207\n",
      "iteration= 300 ----------- cost=693.8604\n",
      "iteration= 400 ----------- cost=692.8094\n",
      "iteration= 500 ----------- cost=691.7676\n",
      "iteration= 600 ----------- cost=690.7349\n",
      "iteration= 700 ----------- cost=689.7112\n",
      "iteration= 800 ----------- cost=688.6965\n",
      "iteration= 900 ----------- cost=687.6906\n",
      "w_final=[ 0.2   0.   -0.01 -0.07],b_final=-0.0022\n"
     ]
    }
   ],
   "source": [
    "initial_w = np.zeros_like(w_init)\n",
    "initial_b = 0.\n",
    "iterations = 1000\n",
    "alpha = 5.0e-7\n",
    "w_final, b_final, J_hist = gradient_descent(X_train, y_train, initial_w, initial_b, compute_cost, compute_gradient,\n",
    "                                            alpha, iterations)\n",
    "\n",
    "print(f\"w_final={w_final},b_final={b_final:6.4f}\")"
   ],
   "metadata": {
    "collapsed": false,
    "ExecuteTime": {
     "end_time": "2023-09-23T10:05:31.023314200Z",
     "start_time": "2023-09-23T10:05:30.778969200Z"
    }
   },
   "id": "67f4cf1f1532c732"
  },
  {
   "cell_type": "code",
   "execution_count": 180,
   "outputs": [
    {
     "name": "stdout",
     "output_type": "stream",
     "text": [
      "prediction:426.19,target value:460\n",
      "prediction:286.17,target value:232\n",
      "prediction:171.47,target value:178\n"
     ]
    }
   ],
   "source": [
    "m, n = X_train.shape\n",
    "for i in range(m):\n",
    "    print(f\"prediction:{np.dot(X_train[i], w_final) + b_final :.2f},target value:{y_train[i]}\")\n"
   ],
   "metadata": {
    "collapsed": false,
    "ExecuteTime": {
     "end_time": "2023-09-23T10:05:31.023314200Z",
     "start_time": "2023-09-23T10:05:30.842798500Z"
    }
   },
   "id": "1046ca9a98c9617e"
  },
  {
   "cell_type": "code",
   "execution_count": 183,
   "outputs": [
    {
     "data": {
      "text/plain": "Text(0, 0.5, 'cost')"
     },
     "execution_count": 183,
     "metadata": {},
     "output_type": "execute_result"
    },
    {
     "data": {
      "text/plain": "<Figure size 1200x400 with 2 Axes>",
      "image/png": "[encoded data removed]"
     },
     "metadata": {},
     "output_type": "display_data"
    }
   ],
   "source": [
    "fig, (ax1, ax2) = plt.subplots(1, 2, constrained_layout=True, figsize=(12, 4))\n",
    "tmp = np.array([0, 1, 2, 3, 4, 5, 6, 7, 8, 9, 10])\n",
    "ax1.plot(J_hist)\n",
    "ax2.plot(100 + np.arange(len(J_hist[100:])), J_hist[100:])\n",
    "ax1.set_title(\"Cost vs iteration\") \n",
    "ax2.set_title(\"Cost vs. iteration (tail)\")\n",
    "ax1.set_xlabel('iteration step')\n",
    "ax2.set_xlabel('iteration step')\n",
    "ax1.set_ylabel('cost')\n",
    "ax2.set_ylabel('cost')\n",
    "\n",
    "\n"
   ],
   "metadata": {
    "collapsed": false,
    "ExecuteTime": {
     "end_time": "2023-09-23T10:24:55.259295700Z",
     "start_time": "2023-09-23T10:24:54.930177Z"
    }
   },
   "id": "7f3038e870723a94"
  },
  {
   "cell_type": "code",
   "execution_count": 181,
   "outputs": [],
   "source": [],
   "metadata": {
    "collapsed": false,
    "ExecuteTime": {
     "end_time": "2023-09-23T10:05:31.225473800Z",
     "start_time": "2023-09-23T10:05:31.198544300Z"
    }
   },
   "id": "c274954cee120dc2"
  }
 ],
 "metadata": {
  "kernelspec": {
   "display_name": "Python 3",
   "language": "python",
   "name": "python3"
  },
  "language_info": {
   "codemirror_mode": {
    "name": "ipython",
    "version": 2
   },
   "file_extension": ".py",
   "mimetype": "text/x-python",
   "name": "python",
   "nbconvert_exporter": "python",
   "pygments_lexer": "ipython2",
   "version": "2.7.6"
  }
 },
 "nbformat": 4,
 "nbformat_minor": 5
}
