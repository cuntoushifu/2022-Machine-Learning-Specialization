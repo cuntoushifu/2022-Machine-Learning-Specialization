{
 "cells": [
  {
   "cell_type": "markdown",
   "source": [
    "# 可选实验室：使用Scikit-Learn进行线性回归"
   ],
   "metadata": {
    "collapsed": false
   },
   "id": "9f320ad0d4da5bbd"
  },
  {
   "cell_type": "markdown",
   "source": [
    "\n",
    "有一个名为[scikit-learn](https://scikit-learn.org/stable/index.html)的开源、商业可用的机器学习工具包。这个工具包包含了许多你将在本课程中使用的算法的实现。"
   ],
   "metadata": {
    "collapsed": false
   },
   "id": "9a01330804c44ab"
  },
  {
   "cell_type": "markdown",
   "source": [
    "\n",
    "## 目标\n",
    "在这个实验室中，你将：\n",
    "- 利用scikit-learn实现使用基于正规方程的封闭形式解决方案的线性回归"
   ],
   "metadata": {
    "collapsed": false
   },
   "id": "b8c218c6b9d8b68e"
  },
  {
   "cell_type": "markdown",
   "source": [
    "\n",
    "## 工具\n",
    "你将利用scikit-learn的函数以及matplotlib和NumPy。"
   ],
   "metadata": {
    "collapsed": false
   },
   "id": "b36725b6ed062550"
  },
  {
   "cell_type": "code",
   "execution_count": null,
   "outputs": [],
   "source": [
    "import numpy as np\n",
    "import matplotlib.pyplot as plt\n",
    "from sklearn.linear_model import LinearRegression\n",
    "from lab_utils_multi import load_house_data\n",
    "plt.style.use('./deeplearning.mplstyle')\n",
    "np.set_printoptions(precision=2)"
   ],
   "metadata": {
    "collapsed": false
   },
   "id": "13e6ea7b74335038"
  },
  {
   "cell_type": "markdown",
   "source": [
    "\n",
    "# 线性回归，封闭形式解决方案\n",
    "Scikit-learn有[线性回归模型](https://scikit-learn.org/stable/modules/generated/sklearn.linear_model.LinearRegression.html#sklearn.linear_model.LinearRegression)，它实现了封闭形式的线性回归。\n",
    "\n",
    "让我们使用早期实验室的数据 - 一个1000平方英尺的房子卖了30万美元，一个2000平方英尺的房子卖了50万美元。\n",
    "\n",
    "| 大小（1000平方英尺）  | 价格（千美元） |\n",
    "| ----------------| ------------------------ |\n",
    "| 1               | 300                      |\n",
    "| 2               | 500                      |"
   ],
   "metadata": {
    "collapsed": false
   },
   "id": "49223f33b105f0c5"
  },
  {
   "cell_type": "markdown",
   "source": [
    "\n",
    "### 加载数据集"
   ],
   "metadata": {
    "collapsed": false
   },
   "id": "f145aaba47f46140"
  },
  {
   "cell_type": "code",
   "execution_count": null,
   "outputs": [],
   "source": [
    "\n",
    "X_train = np.array([1.0, 2.0])   #特征\n",
    "y_train = np.array([300, 500])   #目标值\n"
   ],
   "metadata": {
    "collapsed": false
   },
   "id": "4c7c4516f5d5f2d0"
  },
  {
   "cell_type": "markdown",
   "source": [
    "### 创建并拟合模型\n",
    "下面的代码使用scikit-learn执行回归。\n",
    "第一步创建了一个回归对象。\n",
    "第二步利用与该对象关联的方法之一，`fit`，执行回归，将参数拟合到输入数据。工具包期望一个二维的X矩阵。\n"
   ],
   "metadata": {
    "collapsed": false
   },
   "id": "bd1ca67f5fccaee3"
  },
  {
   "cell_type": "code",
   "execution_count": null,
   "outputs": [],
   "source": [
    "\n",
    "linear_model = LinearRegression()\n",
    "# X必须是一个二维矩阵\n",
    "linear_model.fit(X_train.reshape(-1, 1), y_train)\n",
    "\n",
    "\n"
   ],
   "metadata": {
    "collapsed": false
   },
   "id": "f1e93778720ceb51"
  },
  {
   "cell_type": "code",
   "execution_count": null,
   "outputs": [],
   "source": [
    "b = linear_model.intercept_\n",
    "w = linear_model.coef_\n",
    "print(f\"w = {w:}, b = {b:0.2f}\")\n",
    "print(f\"'manual' prediction: f_wb = wx+b : {1200*w + b}\")\n"
   ],
   "metadata": {
    "collapsed": false
   },
   "id": "f34f65e2a3e38168"
  },
  {
   "cell_type": "markdown",
   "source": [
    "\n",
    "    w = [200.], b = 100.00\n",
    "    'manual' prediction: f_wb = wx+b : [240100.00]\n",
    "\n",
    "\n",
    "### 进行预测\n",
    "\n",
    "调用`predict`函数生成预测。"
   ],
   "metadata": {
    "collapsed": false
   },
   "id": "41ef018803d4d485"
  },
  {
   "cell_type": "code",
   "execution_count": null,
   "outputs": [],
   "source": [
    "y_pred = linear_model.predict(X_train.reshape(-1, 1))\n",
    "\n",
    "print(\"Prediction on training set:\", y_pred)\n",
    "\n",
    "X_test = np.array([[1200]])\n",
    "print(f\"Prediction for 1200 sqft house: ${linear_model.predict(X_test)[0]:0.2f}\")"
   ],
   "metadata": {
    "collapsed": false
   },
   "id": "262cc0d58123833f"
  },
  {
   "cell_type": "markdown",
   "source": [
    "\n",
    "     Prediction on training set: [300. 500.]\n",
    "    Prediction for 1200 sqft house: $240100.00"
   ],
   "metadata": {
    "collapsed": false
   },
   "id": "4ffe023909ba8cd8"
  },
  {
   "cell_type": "markdown",
   "source": [
    "## 第二个示例\n",
    "第二个示例来自较早的一个具有多个特征的实验室。最终的参数值和预测结果与该实验室中的未标准化“长期运行”的结果非常接近。该未标准化运行需要几小时才能生成结果，而这个几乎是瞬时的。封闭形式的解决方案在这些较小的数据集上效果很好，但在较大的数据集上可能需要更多计算资源。\n",
    ">封闭形式的解决方案不需要标准化。\n"
   ],
   "metadata": {
    "collapsed": false
   },
   "id": "a60b4209bc89ff96"
  },
  {
   "cell_type": "code",
   "execution_count": null,
   "outputs": [],
   "source": [
    "# 加载数据集\n",
    "X_train, y_train = load_house_data()\n",
    "X_features = ['size(sqft)','bedrooms','floors','age']"
   ],
   "metadata": {
    "collapsed": false
   },
   "id": "db3d2676ef088a90"
  },
  {
   "cell_type": "code",
   "execution_count": null,
   "outputs": [],
   "source": [
    "linear_model = LinearRegression()\n",
    "linear_model.fit(X_train, y_train)"
   ],
   "metadata": {
    "collapsed": false
   },
   "id": "13af5dc7cb79e14f"
  },
  {
   "cell_type": "markdown",
   "source": [
    "\n",
    "\n",
    "\n",
    "\n",
    "    LinearRegression()\n",
    "\n",
    "\n"
   ],
   "metadata": {
    "collapsed": false
   },
   "id": "2e8bb291af738fe1"
  },
  {
   "cell_type": "code",
   "execution_count": null,
   "outputs": [],
   "source": [
    "b = linear_model.intercept_\n",
    "w = linear_model.coef_\n",
    "print(f\"w = {w:}, b = {b:0.2f}\")"
   ],
   "metadata": {
    "collapsed": false
   },
   "id": "b881df772c552f49"
  },
  {
   "cell_type": "code",
   "execution_count": null,
   "outputs": [],
   "source": [
    "\n",
    "\n",
    "print(f\"在训练集上的预测:\\n {linear_model.predict(X_train)[:4]}\" )\n",
    "print(f\"使用w,b进行预测:\\n {(X_train @ w + b)[:4]}\")\n",
    "print(f\"目标值 \\n {y_train[:4]}\")\n",
    "\n",
    "x_house = np.array([1200, 3,1, 40]).reshape(-1,4)\n",
    "x_house_predict = linear_model.predict(x_house)[0]\n",
    "print(f\" 预测一所面积为1200平方英尺，3间卧室，1层，40岁的房子的价格 = ${x_house_predict*1000:0.2f}\")\n"
   ],
   "metadata": {
    "collapsed": false
   },
   "id": "cae1967f534caeab"
  },
  {
   "cell_type": "markdown",
   "source": [
    "\n",
    "\n",
    "    在训练集上的预测:\n",
    "     [295.18 485.98 389.52 492.15]\n",
    "    使用w,b进行预测:\n",
    "     [295.18 485.98 389.52 492.15]\n",
    "    目标值 \n",
    "     [300.  509.8 394.  540. ]\n",
    "     预测一所面积为1200平方英尺，3间卧室，1层，40岁的房子的价格 = $318709.09\n",
    "\n"
   ],
   "metadata": {
    "collapsed": false
   },
   "id": "3af8f23e0d7c3f9d"
  },
  {
   "cell_type": "markdown",
   "source": [
    "## 祝贺你！\n",
    "在这个实验室中，你：\n",
    "- 利用了一个开源的机器学习工具包，scikit-learn\n",
    "- 实现了使用该工具包的封闭形式解决方案的线性回归。"
   ],
   "metadata": {
    "collapsed": false
   },
   "id": "1cb47db9fe47f7a5"
  }
 ],
 "metadata": {
  "kernelspec": {
   "display_name": "Python 3",
   "language": "python",
   "name": "python3"
  },
  "language_info": {
   "codemirror_mode": {
    "name": "ipython",
    "version": 2
   },
   "file_extension": ".py",
   "mimetype": "text/x-python",
   "name": "python",
   "nbconvert_exporter": "python",
   "pygments_lexer": "ipython2",
   "version": "2.7.6"
  }
 },
 "nbformat": 4,
 "nbformat_minor": 5
}
