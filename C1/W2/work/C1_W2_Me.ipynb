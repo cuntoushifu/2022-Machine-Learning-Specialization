{
 "cells": [
  {
   "cell_type": "code",
   "execution_count": 92,
   "id": "initial_id",
   "metadata": {
    "collapsed": true,
    "ExecuteTime": {
     "end_time": "2023-10-05T11:07:53.260542200Z",
     "start_time": "2023-10-05T11:07:53.027321300Z"
    }
   },
   "outputs": [],
   "source": [
    "import numpy as np\n",
    "import matplotlib.pyplot as plt\n",
    "from utils import *\n",
    "import copy\n",
    "import math\n",
    "%matplotlib inline"
   ]
  },
  {
   "cell_type": "code",
   "execution_count": 93,
   "outputs": [],
   "source": [
    "x_train, y_train = load_data()"
   ],
   "metadata": {
    "collapsed": false,
    "ExecuteTime": {
     "end_time": "2023-10-05T11:07:53.272240600Z",
     "start_time": "2023-10-05T11:07:53.048265200Z"
    }
   },
   "id": "3934159cf9d9579"
  },
  {
   "cell_type": "code",
   "execution_count": 94,
   "outputs": [
    {
     "name": "stdout",
     "output_type": "stream",
     "text": [
      "x中前五个数据：[6.1101 5.5277 8.5186 7.0032 5.8598]\n",
      "y中前五个数据：[17.592   9.1302 13.662  11.854   6.8233]\n"
     ]
    }
   ],
   "source": [
    "# print(f\"x_train={x_train},shape={x_train.shape}\")\n",
    "# print(f\"x_train={y_train},shape={y_train.shape}\")\n",
    "print(f\"x中前五个数据：{x_train[:5]}\")\n",
    "print(f\"y中前五个数据：{y_train[:5]}\")"
   ],
   "metadata": {
    "collapsed": false,
    "ExecuteTime": {
     "end_time": "2023-10-05T11:07:53.272240600Z",
     "start_time": "2023-10-05T11:07:53.063223500Z"
    }
   },
   "id": "384343ae4496c83"
  },
  {
   "cell_type": "code",
   "execution_count": 95,
   "outputs": [
    {
     "data": {
      "text/plain": "Text(0.5, 1.0, 'Profits vs Population per city')"
     },
     "execution_count": 95,
     "metadata": {},
     "output_type": "execute_result"
    },
    {
     "data": {
      "text/plain": "<Figure size 640x480 with 1 Axes>",
      "image/png": "[encoded data removed]"
     },
     "metadata": {},
     "output_type": "display_data"
    }
   ],
   "source": [
    "plt.scatter(x_train, y_train, marker='x', c='r')\n",
    "plt.title(\"Profits vs Population per city\")"
   ],
   "metadata": {
    "collapsed": false,
    "ExecuteTime": {
     "end_time": "2023-10-05T11:07:53.297551Z",
     "start_time": "2023-10-05T11:07:53.076188900Z"
    }
   },
   "id": "8300e46cbb002383"
  },
  {
   "cell_type": "code",
   "execution_count": 96,
   "outputs": [],
   "source": [
    "def compute_cost(x, y, w, b):\n",
    "    m = x.shape[0]\n",
    "    total_cost = 0\n",
    "    for i in range(m):\n",
    "        f_w_b = w * x[i] + b\n",
    "        total_cost += ((f_w_b - y[i]) ** 2)\n",
    "    total_cost /= (2 * m)\n",
    "    return total_cost"
   ],
   "metadata": {
    "collapsed": false,
    "ExecuteTime": {
     "end_time": "2023-10-05T11:07:53.297551Z",
     "start_time": "2023-10-05T11:07:53.235846500Z"
    }
   },
   "id": "25d64c4194429d18"
  },
  {
   "cell_type": "code",
   "execution_count": 97,
   "outputs": [
    {
     "name": "stdout",
     "output_type": "stream",
     "text": [
      "<class 'numpy.float64'>\n",
      "Cost at initial w: 75.203\n",
      "\u001B[92mAll tests passed!\n"
     ]
    }
   ],
   "source": [
    "initial_w = 2\n",
    "initial_b = 1\n",
    "\n",
    "cost = compute_cost(x_train, y_train, initial_w, initial_b)\n",
    "print(type(cost))\n",
    "print(f'Cost at initial w: {cost:.3f}')\n",
    "\n",
    "# Public tests\n",
    "from public_tests import *\n",
    "\n",
    "compute_cost_test(compute_cost)"
   ],
   "metadata": {
    "collapsed": false,
    "ExecuteTime": {
     "end_time": "2023-10-05T11:07:53.299545700Z",
     "start_time": "2023-10-05T11:07:53.249809500Z"
    }
   },
   "id": "f2b9834726776d7e"
  },
  {
   "cell_type": "code",
   "execution_count": 98,
   "outputs": [],
   "source": [
    "def compute_gradient(x, y, w, b):\n",
    "    m = x.shape[0]\n",
    "    dj_dw = 0\n",
    "    dj_db = 0\n",
    "\n",
    "    for i in range(m):\n",
    "        f_wb = w * x[i] + b\n",
    "\n",
    "        dj_dw += (f_wb - y[i]) * x[i]\n",
    "        dj_db += (f_wb - y[i])\n",
    "    dj_db /= m\n",
    "    dj_dw /= m\n",
    "\n",
    "    return dj_dw, dj_db"
   ],
   "metadata": {
    "collapsed": false,
    "ExecuteTime": {
     "end_time": "2023-10-05T11:07:53.305529800Z",
     "start_time": "2023-10-05T11:07:53.264298500Z"
    }
   },
   "id": "76c0aa7fbb3fd603"
  },
  {
   "cell_type": "code",
   "execution_count": 99,
   "outputs": [
    {
     "name": "stdout",
     "output_type": "stream",
     "text": [
      "Gradient at initial w, b (zeros): -65.32884974555672 -5.83913505154639\n",
      "Using X with shape (4, 1)\n",
      "\u001B[92mAll tests passed!\n"
     ]
    }
   ],
   "source": [
    "initial_w = 0\n",
    "initial_b = 0\n",
    "\n",
    "tmp_dj_dw, tmp_dj_db = compute_gradient(x_train, y_train, initial_w, initial_b)\n",
    "print('Gradient at initial w, b (zeros):', tmp_dj_dw, tmp_dj_db)\n",
    "\n",
    "compute_gradient_test(compute_gradient)"
   ],
   "metadata": {
    "collapsed": false,
    "ExecuteTime": {
     "end_time": "2023-10-05T11:07:53.401272300Z",
     "start_time": "2023-10-05T11:07:53.281592400Z"
    }
   },
   "id": "124a49e62b628095"
  },
  {
   "cell_type": "code",
   "execution_count": 100,
   "outputs": [
    {
     "name": "stdout",
     "output_type": "stream",
     "text": [
      "Gradient at test w, b: -47.41610118114435 -4.007175051546391\n"
     ]
    }
   ],
   "source": [
    "test_w = 0.2\n",
    "test_b = 0.2\n",
    "tmp_dj_dw, tmp_dj_db = compute_gradient(x_train, y_train, test_w, test_b)\n",
    "\n",
    "print('Gradient at test w, b:', tmp_dj_dw, tmp_dj_db)"
   ],
   "metadata": {
    "collapsed": false,
    "ExecuteTime": {
     "end_time": "2023-10-05T11:07:53.473118200Z",
     "start_time": "2023-10-05T11:07:53.298547800Z"
    }
   },
   "id": "dd89db0897df1f5e"
  },
  {
   "cell_type": "code",
   "execution_count": 101,
   "outputs": [],
   "source": [
    "def gradient_descent(x, y, w_in, b_in, cost_function, gradient_function, alpha, num_iters):\n",
    "    m = len(x)\n",
    "    J_history = []\n",
    "    w_history = []\n",
    "    w = copy.deepcopy(w_in)\n",
    "    b = b_in\n",
    "\n",
    "    for i in range(num_iters):\n",
    "        dj_dw, dj_db = gradient_function(x, y, w, b)\n",
    "\n",
    "        w -= (alpha * dj_dw)\n",
    "        b -= (alpha * dj_db)\n",
    "\n",
    "        if i < 100000:\n",
    "            cost = cost_function(x, y, w, b)\n",
    "            J_history.append(cost)\n",
    "\n",
    "        if i % math.ceil(num_iters / 10) == 0:\n",
    "            w_history.append(w)\n",
    "            print(f\"Iteration {i:4},Cost:{float(J_history[-1]):8.2f}    \")\n",
    "\n",
    "    return w, b, J_history, w_history\n",
    "\n"
   ],
   "metadata": {
    "collapsed": false,
    "ExecuteTime": {
     "end_time": "2023-10-05T11:07:53.474078800Z",
     "start_time": "2023-10-05T11:07:53.310520400Z"
    }
   },
   "id": "c093de077a173216"
  },
  {
   "cell_type": "code",
   "execution_count": 102,
   "outputs": [
    {
     "name": "stdout",
     "output_type": "stream",
     "text": [
      "Iteration    0,Cost:    6.74    \n",
      "Iteration  150,Cost:    5.31    \n",
      "Iteration  300,Cost:    4.96    \n",
      "Iteration  450,Cost:    4.76    \n",
      "Iteration  600,Cost:    4.64    \n",
      "Iteration  750,Cost:    4.57    \n",
      "Iteration  900,Cost:    4.53    \n",
      "Iteration 1050,Cost:    4.51    \n",
      "Iteration 1200,Cost:    4.50    \n",
      "Iteration 1350,Cost:    4.49    \n",
      "w,b found by gradient descent: 1.166362350335582 -3.63029143940436\n"
     ]
    }
   ],
   "source": [
    "initial_w = 0.\n",
    "initial_b = 0.\n",
    "\n",
    "iterations = 1500\n",
    "alpha = 0.01\n",
    "\n",
    "w, b, J_hist, w_hist = gradient_descent(x_train, y_train, initial_w, initial_b, compute_cost, compute_gradient, alpha,\n",
    "                                        iterations)\n",
    "print(\"w,b found by gradient descent:\", w, b)\n"
   ],
   "metadata": {
    "collapsed": false,
    "ExecuteTime": {
     "end_time": "2023-10-05T11:07:53.666237Z",
     "start_time": "2023-10-05T11:07:53.328481100Z"
    }
   },
   "id": "6cccdc8871e7937c"
  },
  {
   "cell_type": "code",
   "execution_count": 103,
   "outputs": [],
   "source": [
    "m=x_train.shape[0]\n",
    "y_pre=np.zeros(m)\n",
    "\n",
    "for i in range(m):\n",
    "    y_pre[i]=w*x_train[i]+b\n",
    "\n"
   ],
   "metadata": {
    "collapsed": false,
    "ExecuteTime": {
     "end_time": "2023-10-05T11:09:45.576013200Z",
     "start_time": "2023-10-05T11:09:45.524236900Z"
    }
   },
   "id": "9e2a4e764b04e38c"
  },
  {
   "cell_type": "code",
   "execution_count": 104,
   "outputs": [
    {
     "data": {
      "text/plain": "Text(0.5, 0, '人口 单位：万人')"
     },
     "execution_count": 104,
     "metadata": {},
     "output_type": "execute_result"
    },
    {
     "name": "stderr",
     "output_type": "stream",
     "text": [
      "C:\\ProgramData\\anaconda3\\envs\\wed\\lib\\site-packages\\IPython\\core\\events.py:89: UserWarning: Glyph 21033 (\\N{CJK UNIFIED IDEOGRAPH-5229}) missing from current font.\n",
      "  func(*args, **kwargs)\n",
      "C:\\ProgramData\\anaconda3\\envs\\wed\\lib\\site-packages\\IPython\\core\\events.py:89: UserWarning: Glyph 30410 (\\N{CJK UNIFIED IDEOGRAPH-76CA}) missing from current font.\n",
      "  func(*args, **kwargs)\n",
      "C:\\ProgramData\\anaconda3\\envs\\wed\\lib\\site-packages\\IPython\\core\\events.py:89: UserWarning: Glyph 22478 (\\N{CJK UNIFIED IDEOGRAPH-57CE}) missing from current font.\n",
      "  func(*args, **kwargs)\n",
      "C:\\ProgramData\\anaconda3\\envs\\wed\\lib\\site-packages\\IPython\\core\\events.py:89: UserWarning: Glyph 24066 (\\N{CJK UNIFIED IDEOGRAPH-5E02}) missing from current font.\n",
      "  func(*args, **kwargs)\n",
      "C:\\ProgramData\\anaconda3\\envs\\wed\\lib\\site-packages\\IPython\\core\\events.py:89: UserWarning: Glyph 20154 (\\N{CJK UNIFIED IDEOGRAPH-4EBA}) missing from current font.\n",
      "  func(*args, **kwargs)\n",
      "C:\\ProgramData\\anaconda3\\envs\\wed\\lib\\site-packages\\IPython\\core\\events.py:89: UserWarning: Glyph 21475 (\\N{CJK UNIFIED IDEOGRAPH-53E3}) missing from current font.\n",
      "  func(*args, **kwargs)\n",
      "C:\\ProgramData\\anaconda3\\envs\\wed\\lib\\site-packages\\IPython\\core\\events.py:89: UserWarning: Glyph 21333 (\\N{CJK UNIFIED IDEOGRAPH-5355}) missing from current font.\n",
      "  func(*args, **kwargs)\n",
      "C:\\ProgramData\\anaconda3\\envs\\wed\\lib\\site-packages\\IPython\\core\\events.py:89: UserWarning: Glyph 20301 (\\N{CJK UNIFIED IDEOGRAPH-4F4D}) missing from current font.\n",
      "  func(*args, **kwargs)\n",
      "C:\\ProgramData\\anaconda3\\envs\\wed\\lib\\site-packages\\IPython\\core\\events.py:89: UserWarning: Glyph 65306 (\\N{FULLWIDTH COLON}) missing from current font.\n",
      "  func(*args, **kwargs)\n",
      "C:\\ProgramData\\anaconda3\\envs\\wed\\lib\\site-packages\\IPython\\core\\events.py:89: UserWarning: Glyph 19975 (\\N{CJK UNIFIED IDEOGRAPH-4E07}) missing from current font.\n",
      "  func(*args, **kwargs)\n",
      "C:\\ProgramData\\anaconda3\\envs\\wed\\lib\\site-packages\\IPython\\core\\events.py:89: UserWarning: Glyph 25910 (\\N{CJK UNIFIED IDEOGRAPH-6536}) missing from current font.\n",
      "  func(*args, **kwargs)\n",
      "C:\\ProgramData\\anaconda3\\envs\\wed\\lib\\site-packages\\IPython\\core\\events.py:89: UserWarning: Glyph 32654 (\\N{CJK UNIFIED IDEOGRAPH-7F8E}) missing from current font.\n",
      "  func(*args, **kwargs)\n",
      "C:\\ProgramData\\anaconda3\\envs\\wed\\lib\\site-packages\\IPython\\core\\events.py:89: UserWarning: Glyph 20803 (\\N{CJK UNIFIED IDEOGRAPH-5143}) missing from current font.\n",
      "  func(*args, **kwargs)\n",
      "C:\\ProgramData\\anaconda3\\envs\\wed\\lib\\site-packages\\IPython\\core\\pylabtools.py:151: UserWarning: Glyph 21033 (\\N{CJK UNIFIED IDEOGRAPH-5229}) missing from current font.\n",
      "  fig.canvas.print_figure(bytes_io, **kw)\n",
      "C:\\ProgramData\\anaconda3\\envs\\wed\\lib\\site-packages\\IPython\\core\\pylabtools.py:151: UserWarning: Glyph 30410 (\\N{CJK UNIFIED IDEOGRAPH-76CA}) missing from current font.\n",
      "  fig.canvas.print_figure(bytes_io, **kw)\n",
      "C:\\ProgramData\\anaconda3\\envs\\wed\\lib\\site-packages\\IPython\\core\\pylabtools.py:151: UserWarning: Glyph 22478 (\\N{CJK UNIFIED IDEOGRAPH-57CE}) missing from current font.\n",
      "  fig.canvas.print_figure(bytes_io, **kw)\n",
      "C:\\ProgramData\\anaconda3\\envs\\wed\\lib\\site-packages\\IPython\\core\\pylabtools.py:151: UserWarning: Glyph 24066 (\\N{CJK UNIFIED IDEOGRAPH-5E02}) missing from current font.\n",
      "  fig.canvas.print_figure(bytes_io, **kw)\n",
      "C:\\ProgramData\\anaconda3\\envs\\wed\\lib\\site-packages\\IPython\\core\\pylabtools.py:151: UserWarning: Glyph 20154 (\\N{CJK UNIFIED IDEOGRAPH-4EBA}) missing from current font.\n",
      "  fig.canvas.print_figure(bytes_io, **kw)\n",
      "C:\\ProgramData\\anaconda3\\envs\\wed\\lib\\site-packages\\IPython\\core\\pylabtools.py:151: UserWarning: Glyph 21475 (\\N{CJK UNIFIED IDEOGRAPH-53E3}) missing from current font.\n",
      "  fig.canvas.print_figure(bytes_io, **kw)\n",
      "C:\\ProgramData\\anaconda3\\envs\\wed\\lib\\site-packages\\IPython\\core\\pylabtools.py:151: UserWarning: Glyph 21333 (\\N{CJK UNIFIED IDEOGRAPH-5355}) missing from current font.\n",
      "  fig.canvas.print_figure(bytes_io, **kw)\n",
      "C:\\ProgramData\\anaconda3\\envs\\wed\\lib\\site-packages\\IPython\\core\\pylabtools.py:151: UserWarning: Glyph 20301 (\\N{CJK UNIFIED IDEOGRAPH-4F4D}) missing from current font.\n",
      "  fig.canvas.print_figure(bytes_io, **kw)\n",
      "C:\\ProgramData\\anaconda3\\envs\\wed\\lib\\site-packages\\IPython\\core\\pylabtools.py:151: UserWarning: Glyph 65306 (\\N{FULLWIDTH COLON}) missing from current font.\n",
      "  fig.canvas.print_figure(bytes_io, **kw)\n",
      "C:\\ProgramData\\anaconda3\\envs\\wed\\lib\\site-packages\\IPython\\core\\pylabtools.py:151: UserWarning: Glyph 19975 (\\N{CJK UNIFIED IDEOGRAPH-4E07}) missing from current font.\n",
      "  fig.canvas.print_figure(bytes_io, **kw)\n",
      "C:\\ProgramData\\anaconda3\\envs\\wed\\lib\\site-packages\\IPython\\core\\pylabtools.py:151: UserWarning: Glyph 25910 (\\N{CJK UNIFIED IDEOGRAPH-6536}) missing from current font.\n",
      "  fig.canvas.print_figure(bytes_io, **kw)\n",
      "C:\\ProgramData\\anaconda3\\envs\\wed\\lib\\site-packages\\IPython\\core\\pylabtools.py:151: UserWarning: Glyph 32654 (\\N{CJK UNIFIED IDEOGRAPH-7F8E}) missing from current font.\n",
      "  fig.canvas.print_figure(bytes_io, **kw)\n",
      "C:\\ProgramData\\anaconda3\\envs\\wed\\lib\\site-packages\\IPython\\core\\pylabtools.py:151: UserWarning: Glyph 20803 (\\N{CJK UNIFIED IDEOGRAPH-5143}) missing from current font.\n",
      "  fig.canvas.print_figure(bytes_io, **kw)\n"
     ]
    },
    {
     "data": {
      "text/plain": "<Figure size 640x480 with 1 Axes>",
      "image/png": "[encoded data removed]"
     },
     "metadata": {},
     "output_type": "display_data"
    }
   ],
   "source": [
    "plt.plot(x_train,y_pre,c='b')\n",
    "plt.scatter(x_train,y_train,marker='x',c='r')\n",
    "plt.title(\"利益 vs 城市人口\")\n",
    "plt.ylabel('收益 单位：万美元')\n",
    "plt.xlabel('人口 单位：万人')"
   ],
   "metadata": {
    "collapsed": false,
    "ExecuteTime": {
     "end_time": "2023-10-05T11:14:11.386327200Z",
     "start_time": "2023-10-05T11:14:11.185821600Z"
    }
   },
   "id": "31787f2882b6bdb2"
  },
  {
   "cell_type": "code",
   "execution_count": 105,
   "outputs": [
    {
     "name": "stdout",
     "output_type": "stream",
     "text": [
      "For population = 35,000, we predict a profit of $4519.77\n",
      "For population = 70,000, we predict a profit of $45342.45\n"
     ]
    }
   ],
   "source": [
    "predict1 = 3.5 * w + b\n",
    "print('For population = 35,000, we predict a profit of $%.2f' % (predict1*10000))\n",
    "\n",
    "predict2 = 7.0 * w + b\n",
    "print('For population = 70,000, we predict a profit of $%.2f' % (predict2*10000))"
   ],
   "metadata": {
    "collapsed": false,
    "ExecuteTime": {
     "end_time": "2023-10-05T11:14:52.698412Z",
     "start_time": "2023-10-05T11:14:52.660469300Z"
    }
   },
   "id": "5f596092d58d9285"
  }
 ],
 "metadata": {
  "kernelspec": {
   "display_name": "Python 3",
   "language": "python",
   "name": "python3"
  },
  "language_info": {
   "codemirror_mode": {
    "name": "ipython",
    "version": 2
   },
   "file_extension": ".py",
   "mimetype": "text/x-python",
   "name": "python",
   "nbconvert_exporter": "python",
   "pygments_lexer": "ipython2",
   "version": "2.7.6"
  }
 },
 "nbformat": 4,
 "nbformat_minor": 5
}
