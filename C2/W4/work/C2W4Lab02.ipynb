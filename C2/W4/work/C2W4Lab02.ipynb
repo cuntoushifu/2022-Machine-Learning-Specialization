{
 "cells": [
  {
   "cell_type": "code",
   "execution_count": 129,
   "id": "initial_id",
   "metadata": {
    "collapsed": true,
    "ExecuteTime": {
     "end_time": "2023-12-12T11:03:55.287470Z",
     "start_time": "2023-12-12T11:03:55.274940Z"
    }
   },
   "outputs": [],
   "source": [
    "import numpy as np\n",
    "import pandas as pd\n",
    "from sklearn.tree import DecisionTreeClassifier\n",
    "from sklearn.ensemble import RandomForestClassifier\n",
    "from sklearn.model_selection import train_test_split\n",
    "from sklearn.metrics import accuracy_score\n",
    "# !pip install xgboost --quiet\n",
    "from xgboost import XGBClassifier\n",
    "import matplotlib.pyplot as plt\n",
    "\n",
    "plt.style.use('./deeplearning.mplstyle')\n",
    "\n",
    "RANDOM_STATE = 55  ## You will pass it to every sklearn call so we ensure reproducibility"
   ]
  },
  {
   "cell_type": "code",
   "execution_count": 130,
   "outputs": [],
   "source": [
    "df = pd.read_csv(\"heart.csv\")"
   ],
   "metadata": {
    "collapsed": false,
    "ExecuteTime": {
     "end_time": "2023-12-12T11:03:55.300402Z",
     "start_time": "2023-12-12T11:03:55.290492Z"
    }
   },
   "id": "1066e3be151e3943"
  },
  {
   "cell_type": "code",
   "execution_count": 131,
   "outputs": [
    {
     "name": "stdout",
     "output_type": "stream",
     "text": [
      "   Age Sex ChestPainType  RestingBP  Cholesterol  FastingBS RestingECG  MaxHR  \\\n",
      "0   40   M           ATA        140          289          0     Normal    172   \n",
      "1   49   F           NAP        160          180          0     Normal    156   \n",
      "2   37   M           ATA        130          283          0         ST     98   \n",
      "3   48   F           ASY        138          214          0     Normal    108   \n",
      "4   54   M           NAP        150          195          0     Normal    122   \n",
      "\n",
      "  ExerciseAngina  Oldpeak ST_Slope  HeartDisease  \n",
      "0              N      0.0       Up             0  \n",
      "1              N      1.0     Flat             1  \n",
      "2              N      0.0       Up             0  \n",
      "3              Y      1.5     Flat             1  \n",
      "4              N      0.0       Up             0  \n"
     ]
    }
   ],
   "source": [
    "print(df.head())"
   ],
   "metadata": {
    "collapsed": false,
    "ExecuteTime": {
     "end_time": "2023-12-12T11:03:55.300805Z",
     "start_time": "2023-12-12T11:03:55.296670Z"
    }
   },
   "id": "8cfeffc05035ffe7"
  },
  {
   "cell_type": "code",
   "execution_count": 132,
   "outputs": [],
   "source": [
    "cat_variables = [\n",
    "    'Sex',\n",
    "    'ChestPainType',\n",
    "    'RestingECG',\n",
    "    'ExerciseAngina',\n",
    "    'ST_Slope'\n",
    "]"
   ],
   "metadata": {
    "collapsed": false,
    "ExecuteTime": {
     "end_time": "2023-12-12T11:03:55.307057Z",
     "start_time": "2023-12-12T11:03:55.299668Z"
    }
   },
   "id": "894e9e4268473da4"
  },
  {
   "cell_type": "code",
   "execution_count": 133,
   "outputs": [],
   "source": [
    "# help(pd.get_dummies)"
   ],
   "metadata": {
    "collapsed": false,
    "ExecuteTime": {
     "end_time": "2023-12-12T11:03:55.307323Z",
     "start_time": "2023-12-12T11:03:55.302747Z"
    }
   },
   "id": "4751bb6c29627168"
  },
  {
   "cell_type": "code",
   "execution_count": 134,
   "outputs": [],
   "source": [
    "df = pd.get_dummies(data=df, prefix=cat_variables, columns=cat_variables)"
   ],
   "metadata": {
    "collapsed": false,
    "ExecuteTime": {
     "end_time": "2023-12-12T11:03:55.310731Z",
     "start_time": "2023-12-12T11:03:55.306798Z"
    }
   },
   "id": "16890479a1ebbe39"
  },
  {
   "cell_type": "code",
   "execution_count": 135,
   "outputs": [
    {
     "name": "stdout",
     "output_type": "stream",
     "text": [
      "   Age  RestingBP  Cholesterol  FastingBS  MaxHR  Oldpeak  HeartDisease  \\\n",
      "0   40        140          289          0    172      0.0             0   \n",
      "1   49        160          180          0    156      1.0             1   \n",
      "2   37        130          283          0     98      0.0             0   \n",
      "3   48        138          214          0    108      1.5             1   \n",
      "4   54        150          195          0    122      0.0             0   \n",
      "\n",
      "   Sex_F  Sex_M  ChestPainType_ASY  ...  ChestPainType_NAP  ChestPainType_TA  \\\n",
      "0  False   True              False  ...              False             False   \n",
      "1   True  False              False  ...               True             False   \n",
      "2  False   True              False  ...              False             False   \n",
      "3   True  False               True  ...              False             False   \n",
      "4  False   True              False  ...               True             False   \n",
      "\n",
      "   RestingECG_LVH  RestingECG_Normal  RestingECG_ST  ExerciseAngina_N  \\\n",
      "0           False               True          False              True   \n",
      "1           False               True          False              True   \n",
      "2           False              False           True              True   \n",
      "3           False               True          False             False   \n",
      "4           False               True          False              True   \n",
      "\n",
      "   ExerciseAngina_Y  ST_Slope_Down  ST_Slope_Flat  ST_Slope_Up  \n",
      "0             False          False          False         True  \n",
      "1             False          False           True        False  \n",
      "2             False          False          False         True  \n",
      "3              True          False           True        False  \n",
      "4             False          False          False         True  \n",
      "\n",
      "[5 rows x 21 columns]\n"
     ]
    }
   ],
   "source": [
    "print(df.head())"
   ],
   "metadata": {
    "collapsed": false,
    "ExecuteTime": {
     "end_time": "2023-12-12T11:03:55.316884Z",
     "start_time": "2023-12-12T11:03:55.313359Z"
    }
   },
   "id": "81b74fc76b5abf05"
  },
  {
   "cell_type": "code",
   "execution_count": 136,
   "outputs": [
    {
     "name": "stdout",
     "output_type": "stream",
     "text": [
      "21\n"
     ]
    }
   ],
   "source": [
    "print(len(df.columns))"
   ],
   "metadata": {
    "collapsed": false,
    "ExecuteTime": {
     "end_time": "2023-12-12T11:03:55.338480Z",
     "start_time": "2023-12-12T11:03:55.316188Z"
    }
   },
   "id": "f9a01ed3dc651354"
  },
  {
   "cell_type": "code",
   "execution_count": 137,
   "outputs": [],
   "source": [
    "var = [x for x in df.columns if x not in 'HeartDisease']"
   ],
   "metadata": {
    "collapsed": false,
    "ExecuteTime": {
     "end_time": "2023-12-12T11:03:55.338744Z",
     "start_time": "2023-12-12T11:03:55.319126Z"
    }
   },
   "id": "75861cecb9b5215d"
  },
  {
   "cell_type": "code",
   "execution_count": 138,
   "outputs": [
    {
     "name": "stdout",
     "output_type": "stream",
     "text": [
      "20\n",
      "['Age', 'RestingBP', 'Cholesterol', 'FastingBS', 'MaxHR', 'Oldpeak', 'Sex_F', 'Sex_M', 'ChestPainType_ASY', 'ChestPainType_ATA', 'ChestPainType_NAP', 'ChestPainType_TA', 'RestingECG_LVH', 'RestingECG_Normal', 'RestingECG_ST', 'ExerciseAngina_N', 'ExerciseAngina_Y', 'ST_Slope_Down', 'ST_Slope_Flat', 'ST_Slope_Up']\n"
     ]
    }
   ],
   "source": [
    "print(len(var))\n",
    "print(var)"
   ],
   "metadata": {
    "collapsed": false,
    "ExecuteTime": {
     "end_time": "2023-12-12T11:03:55.339340Z",
     "start_time": "2023-12-12T11:03:55.322671Z"
    }
   },
   "id": "b92039bac50eeb70"
  },
  {
   "cell_type": "code",
   "execution_count": 139,
   "outputs": [],
   "source": [
    "X_train, X_test, y_train, y_test = train_test_split(df[var], df['HeartDisease'], train_size=0.8,\n",
    "                                                    random_state=RANDOM_STATE)"
   ],
   "metadata": {
    "collapsed": false,
    "ExecuteTime": {
     "end_time": "2023-12-12T11:03:55.339821Z",
     "start_time": "2023-12-12T11:03:55.326307Z"
    }
   },
   "id": "3f287b951164075b"
  },
  {
   "cell_type": "code",
   "execution_count": 140,
   "outputs": [
    {
     "name": "stdout",
     "output_type": "stream",
     "text": [
      "train samples:734\n",
      " test samples:184\n",
      "target proportion:0.5518\n"
     ]
    }
   ],
   "source": [
    "print(f'train samples:{len(X_train)}\\n test samples:{len(X_test)}')\n",
    "print(f'target proportion:{sum(y_train) / len(y_train):.4f}')"
   ],
   "metadata": {
    "collapsed": false,
    "ExecuteTime": {
     "end_time": "2023-12-12T11:03:55.340055Z",
     "start_time": "2023-12-12T11:03:55.330213Z"
    }
   },
   "id": "d85c95b16800fa10"
  },
  {
   "cell_type": "code",
   "execution_count": 141,
   "outputs": [],
   "source": [
    "min_samples_split_list = [2, 10, 30, 50, 100, 200, 300, 700]\n",
    "max_depth_list = [1, 2, 3, 4, 8, 16, 32, 64, None]"
   ],
   "metadata": {
    "collapsed": false,
    "ExecuteTime": {
     "end_time": "2023-12-12T11:03:55.340230Z",
     "start_time": "2023-12-12T11:03:55.333099Z"
    }
   },
   "id": "5852481de583b126"
  },
  {
   "cell_type": "code",
   "execution_count": 142,
   "outputs": [
    {
     "data": {
      "text/plain": "<matplotlib.legend.Legend at 0x168d83910>"
     },
     "execution_count": 142,
     "metadata": {},
     "output_type": "execute_result"
    },
    {
     "data": {
      "text/plain": "<Figure size 640x480 with 1 Axes>",
      "image/png": "[encoded data removed]"
     },
     "metadata": {},
     "output_type": "display_data"
    }
   ],
   "source": [
    "accuracy_list_train = []\n",
    "accuracy_list_test = []\n",
    "for min_samples_split in min_samples_split_list:\n",
    "    \n",
    "    model=DecisionTreeClassifier(min_samples_split=min_samples_split,random_state=RANDOM_STATE).fit(X_train,y_train)\n",
    "    predictions_train=model.predict(X_train)\n",
    "    predictions_test=model.predict(X_test)\n",
    "    accuracy_train=accuracy_score(predictions_train,y_train)\n",
    "    accuracy_test=accuracy_score(predictions_test,y_test)\n",
    "    accuracy_list_train.append(accuracy_train)\n",
    "    accuracy_list_test.append(accuracy_test)\n",
    "    \n",
    "plt.title(\"Train x Test metrics\")\n",
    "plt.xlabel('min_samples_split')\n",
    "plt.ylabel('accuracy')\n",
    "plt.xticks(ticks=range(len(min_samples_split_list)),labels=min_samples_split_list)\n",
    "plt.plot(accuracy_list_train)\n",
    "plt.plot(accuracy_list_test)\n",
    "plt.legend(['train', 'test'])  "
   ],
   "metadata": {
    "collapsed": false,
    "ExecuteTime": {
     "end_time": "2023-12-12T11:03:55.450593Z",
     "start_time": "2023-12-12T11:03:55.337915Z"
    }
   },
   "id": "a68c7e83eef369d0"
  },
  {
   "cell_type": "code",
   "execution_count": 143,
   "outputs": [
    {
     "data": {
      "text/plain": "<matplotlib.legend.Legend at 0x168de42e0>"
     },
     "execution_count": 143,
     "metadata": {},
     "output_type": "execute_result"
    },
    {
     "data": {
      "text/plain": "<Figure size 640x480 with 1 Axes>",
      "image/png": "[encoded data removed]"
     },
     "metadata": {},
     "output_type": "display_data"
    }
   ],
   "source": [
    "accuracy_list_train=[]\n",
    "accuracy_list_test=[]\n",
    "for max_depth in max_depth_list:\n",
    "    \n",
    "    model=DecisionTreeClassifier(max_depth=max_depth,random_state=RANDOM_STATE).fit(X_train,y_train)\n",
    "    \n",
    "    predictions_train=model.predict(X_train)\n",
    "    predictions_test=model.predict(X_test)\n",
    "    \n",
    "    accuracy_train=accuracy_score(predictions_train,y_train)\n",
    "    accuracy_test=accuracy_score(predictions_test,y_test)\n",
    "\n",
    "    accuracy_list_train.append(accuracy_train)\n",
    "    accuracy_list_test.append(accuracy_test)\n",
    "\n",
    "plt.title(\"Train x Test metrics\")\n",
    "plt.xlabel('max_depth')\n",
    "plt.ylabel('accuracy')\n",
    "plt.xticks(ticks=range(len(max_depth_list)),labels=max_depth_list)\n",
    "plt.plot(accuracy_list_train)\n",
    "plt.plot(accuracy_list_test)\n",
    "plt.legend(['train', 'test'])  "
   ],
   "metadata": {
    "collapsed": false,
    "ExecuteTime": {
     "end_time": "2023-12-12T11:03:55.565646Z",
     "start_time": "2023-12-12T11:03:55.453387Z"
    }
   },
   "id": "1f795ddffd25e7ad"
  },
  {
   "cell_type": "code",
   "execution_count": 145,
   "outputs": [],
   "source": [
    "decision_tree_model=DecisionTreeClassifier(max_depth=3,min_samples_split=50,random_state=RANDOM_STATE).fit(X_train,y_train)"
   ],
   "metadata": {
    "collapsed": false,
    "ExecuteTime": {
     "end_time": "2023-12-12T11:05:21.882316Z",
     "start_time": "2023-12-12T11:05:21.872545Z"
    }
   },
   "id": "821e2cd052ae6d78"
  },
  {
   "cell_type": "code",
   "execution_count": 146,
   "outputs": [],
   "source": [
    "min_samples_split_list = [2,10, 30, 50, 100, 200, 300, 700]  ## If the number is an integer, then it is the actual quantity of samples,\n",
    "## If it is a float, then it is the percentage of the dataset\n",
    "max_depth_list = [2, 4, 8, 16, 32, 64, None]\n",
    "n_estimators_list = [10,50,100,500]"
   ],
   "metadata": {
    "collapsed": false,
    "ExecuteTime": {
     "end_time": "2023-12-12T11:09:17.768409Z",
     "start_time": "2023-12-12T11:09:17.759787Z"
    }
   },
   "id": "da5020a7435882af"
  },
  {
   "cell_type": "code",
   "execution_count": null,
   "outputs": [],
   "source": [],
   "metadata": {
    "collapsed": false
   },
   "id": "f5b47b46a4ebf5e4"
  }
 ],
 "metadata": {
  "kernelspec": {
   "display_name": "Python 3",
   "language": "python",
   "name": "python3"
  },
  "language_info": {
   "codemirror_mode": {
    "name": "ipython",
    "version": 2
   },
   "file_extension": ".py",
   "mimetype": "text/x-python",
   "name": "python",
   "nbconvert_exporter": "python",
   "pygments_lexer": "ipython2",
   "version": "2.7.6"
  }
 },
 "nbformat": 4,
 "nbformat_minor": 5
}
